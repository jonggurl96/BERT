{
 "cells": [
  {
   "cell_type": "markdown",
   "metadata": {},
   "source": [
    "# Working with data\n",
    "\n",
    "1. torch.utils.data.DataLoader\n",
    "2. torch.utils.data.Dataset\n",
    "\n",
    "Dataset을 포함한 도메인 별 라이브러리 TorchText, TorchVision, TorchAudio 중 TorchVision의 FashionMNIST dataset 사용"
   ]
  },
  {
   "cell_type": "code",
   "execution_count": 1,
   "metadata": {
    "ExecuteTime": {
     "end_time": "2023-07-27T01:24:31.096744900Z",
     "start_time": "2023-07-27T01:24:30.093579Z"
    }
   },
   "outputs": [],
   "source": [
    "import torch\n",
    "from torch import nn\n",
    "from torch.utils.data import DataLoader\n",
    "from torchvision import datasets\n",
    "from torchvision.transforms import ToTensor"
   ]
  },
  {
   "cell_type": "code",
   "execution_count": 2,
   "metadata": {
    "ExecuteTime": {
     "end_time": "2023-07-27T01:24:34.782745600Z",
     "start_time": "2023-07-27T01:24:34.771270Z"
    }
   },
   "outputs": [
    {
     "name": "stdout",
     "output_type": "stream",
     "text": [
      "NVIDIA GeForce RTX 3060\n",
      "Using cuda device\n"
     ]
    }
   ],
   "source": [
    "device = \"cpu\"\n",
    "if torch.cuda.is_available():\n",
    "    deviceNo = torch.cuda.current_device\n",
    "    print(torch.cuda.get_device_name(0))\n",
    "    device = \"cuda\"\n",
    "print(f\"Using {device} device\")"
   ]
  },
  {
   "cell_type": "markdown",
   "metadata": {},
   "source": [
    "# Download training/test data\n",
    "  from torchvision.datasets.FashionMNIST with transforming to tensor"
   ]
  },
  {
   "cell_type": "code",
   "execution_count": 3,
   "metadata": {
    "ExecuteTime": {
     "end_time": "2023-07-27T01:24:37.928993700Z",
     "start_time": "2023-07-27T01:24:37.289496800Z"
    }
   },
   "outputs": [],
   "source": [
    "# Training Data\n",
    "training_data = datasets.FashionMNIST(\n",
    "    root=\"data\",\n",
    "    train=True,\n",
    "    download=True,\n",
    "    transform=ToTensor()\n",
    ")\n",
    "\n",
    "# Test Data\n",
    "test_data = datasets.FashionMNIST(\n",
    "    root=\"data\",\n",
    "    train=False,\n",
    "    download=True,\n",
    "    transform=ToTensor()\n",
    ")"
   ]
  },
  {
   "cell_type": "markdown",
   "metadata": {},
   "source": [
    "# Multiprocess Data Loading"
   ]
  },
  {
   "cell_type": "code",
   "execution_count": 4,
   "metadata": {
    "ExecuteTime": {
     "end_time": "2023-07-27T01:24:42.476410500Z",
     "start_time": "2023-07-27T01:24:41.362143800Z"
    }
   },
   "outputs": [
    {
     "name": "stdout",
     "output_type": "stream",
     "text": [
      "Shape of X [N, C, H, W]: torch.Size([64, 1, 28, 28])\n",
      "Shape of y: torch.Size([64]) torch.int64\n"
     ]
    }
   ],
   "source": [
    "batch_size = 64\n",
    "\n",
    "# Create data loaders.\n",
    "train_dataloader = DataLoader(training_data, batch_size=batch_size)\n",
    "test_dataloader = DataLoader(test_data, batch_size=batch_size)\n",
    "\n",
    "for X, y in test_dataloader:\n",
    "    r\"\"\"\n",
    "        N: Number of Batch Size\n",
    "        C: Count of Data Fragment(Height, Width), 1\n",
    "    \"\"\"\n",
    "    print(f\"Shape of X [N, C, H, W]: {X.shape}\")\n",
    "    print(f\"Shape of y: {y.shape} {y.dtype}\")\n",
    "    break"
   ]
  },
  {
   "cell_type": "markdown",
   "metadata": {},
   "source": [
    "# Creating Models\n",
    "Neural Network Model을 만들기 위해 **nn.Module** 클래스를 상속받는 클래스를 만든다."
   ]
  },
  {
   "cell_type": "code",
   "execution_count": 5,
   "metadata": {
    "ExecuteTime": {
     "end_time": "2023-07-27T01:24:44.189074300Z",
     "start_time": "2023-07-27T01:24:43.805712200Z"
    }
   },
   "outputs": [
    {
     "name": "stdout",
     "output_type": "stream",
     "text": [
      "NeuralNetwork(\n",
      "  (flatten): Flatten(start_dim=1, end_dim=-1)\n",
      "  (linear_relu_stack): Sequential(\n",
      "    (0): Linear(in_features=784, out_features=512, bias=True)\n",
      "    (1): ReLU()\n",
      "    (2): Linear(in_features=512, out_features=512, bias=True)\n",
      "    (3): ReLU()\n",
      "    (4): Linear(in_features=512, out_features=10, bias=True)\n",
      "  )\n",
      ")\n"
     ]
    }
   ],
   "source": [
    "# Model 클래스 생성\n",
    "class NeuralNetwork(nn.Module):\n",
    "    def __init__(self):\n",
    "        super().__init__()\n",
    "        self.flatten = nn.Flatten()\n",
    "        self.linear_relu_stack = nn.Sequential(\n",
    "            nn.Linear(28*28, 512), # X.shape Height * Width\n",
    "            nn.ReLU(), # return x if x > 0 else 0\n",
    "            nn.Linear(512, 512),\n",
    "            nn.ReLU(),\n",
    "            nn.Linear(512, 10)\n",
    "        )\n",
    "    def forward(self, x):\n",
    "        x = self.flatten(x)\n",
    "        logits = self.linear_relu_stack(x)\n",
    "        return logits\n",
    "\n",
    "# Model 클래스 인스턴스화\n",
    "model = NeuralNetwork().to(device)\n",
    "print(model)"
   ]
  },
  {
   "cell_type": "markdown",
   "metadata": {},
   "source": [
    "# Model Parameter 최적화\n",
    "모델 학습을 위해 loss function과 optimizer 필요"
   ]
  },
  {
   "cell_type": "code",
   "execution_count": 6,
   "metadata": {
    "ExecuteTime": {
     "end_time": "2023-07-27T01:24:47.196123100Z",
     "start_time": "2023-07-27T01:24:47.193616700Z"
    }
   },
   "outputs": [],
   "source": [
    "loss_fn = nn.CrossEntropyLoss() # {실제값 * log(예측확률)의 총 합} / 데이터 개수\n",
    "optimizer = torch.optim.SGD(model.parameters(), lr=1e-3) # Stochastic Gradient Descent 경사하강법, lr = learning rate"
   ]
  },
  {
   "cell_type": "markdown",
   "metadata": {},
   "source": [
    "# Model Training Function"
   ]
  },
  {
   "cell_type": "code",
   "execution_count": 7,
   "metadata": {
    "ExecuteTime": {
     "end_time": "2023-07-27T01:24:48.828097200Z",
     "start_time": "2023-07-27T01:24:48.826584900Z"
    }
   },
   "outputs": [],
   "source": [
    "# 모델 학습 함수\n",
    "\n",
    "def train(dataloader, model, loss_fn, optimizer):\n",
    "    size = len(dataloader.dataset)\n",
    "    model.train() # set training mode\n",
    "    for batch, (X, y) in enumerate(dataloader):\n",
    "        X, y = X.to(device), y.to(device)\n",
    "\n",
    "        # prediction error 계산\n",
    "        pred = model(X)\n",
    "        loss = loss_fn(pred, y)\n",
    "\n",
    "        r\"\"\"\n",
    "            BackPropagation 역전파\n",
    "            (X, y)의 쌍 한 개의 예측이 끝나면 역전파를 통해 모델의 모든 파라미터 값을 재조정\n",
    "            모든 (X, y) 쌍의 예측이 끝날 때까지 반복\n",
    "        \"\"\"\n",
    "        loss.backward()\n",
    "\n",
    "        r\"\"\"\n",
    "            역전파한 오차를 통해 Gradient 계산 후 Parameter 재조정\n",
    "        \"\"\"\n",
    "        optimizer.step()\n",
    "\n",
    "        r\"\"\"\n",
    "            Parameter 계산 후 필요없는 Gradient 초기화\n",
    "        \"\"\"\n",
    "        optimizer.zero_grad()\n",
    "\n",
    "        if batch % 100 == 0:\n",
    "            loss, current = loss.item(), (batch + 1) * len(X)\n",
    "            print(f\"loss: {loss:>7f} [{current:>5d}/{size:>5d}]\")"
   ]
  },
  {
   "cell_type": "markdown",
   "metadata": {},
   "source": [
    "# Model Test Function"
   ]
  },
  {
   "cell_type": "code",
   "execution_count": 8,
   "metadata": {
    "ExecuteTime": {
     "end_time": "2023-07-27T01:24:50.710070Z",
     "start_time": "2023-07-27T01:24:50.696471900Z"
    }
   },
   "outputs": [],
   "source": [
    "# model 학습 중 performance test\n",
    "def test(dataloader, model, loss_fn):\n",
    "    size = len(dataloader.dataset)\n",
    "    num_batches = len(dataloader)\n",
    "    model.eval() # set evaluation mode\n",
    "    test_loss, correct = 0, 0\n",
    "    with torch.no_grad():\n",
    "        for X, y in dataloader:\n",
    "            X, y = X.to(device), y.to(device)\n",
    "            pred = model(X)\n",
    "            test_loss += loss_fn(pred, y).item()\n",
    "            correct += (pred.argmax(1) == y).type(torch.float).sum().item()\n",
    "    test_loss /= num_batches\n",
    "    correct /= size\n",
    "    print(f\"Test Error: \\n Accuracy: {(100*correct):>0.1f}%, Avg loss: {test_loss:>8f}\\n\")"
   ]
  },
  {
   "cell_type": "markdown",
   "metadata": {},
   "source": [
    "# Training & Test"
   ]
  },
  {
   "cell_type": "code",
   "execution_count": 9,
   "metadata": {
    "ExecuteTime": {
     "end_time": "2023-07-27T01:25:35.358190Z",
     "start_time": "2023-07-27T01:24:52.587372200Z"
    }
   },
   "outputs": [
    {
     "name": "stdout",
     "output_type": "stream",
     "text": [
      "Epoch 1\n",
      "-----------------------------------------\n",
      "loss: 2.296294 [   64/60000]\n",
      "loss: 2.280987 [ 6464/60000]\n",
      "loss: 2.260886 [12864/60000]\n",
      "loss: 2.253731 [19264/60000]\n",
      "loss: 2.246687 [25664/60000]\n",
      "loss: 2.209404 [32064/60000]\n",
      "loss: 2.218292 [38464/60000]\n",
      "loss: 2.175638 [44864/60000]\n",
      "loss: 2.169539 [51264/60000]\n",
      "loss: 2.138575 [57664/60000]\n",
      "Test Error: \n",
      " Accuracy: 42.1%, Avg loss: 2.131643\n",
      "\n",
      "Epoch 2\n",
      "-----------------------------------------\n",
      "loss: 2.143432 [   64/60000]\n",
      "loss: 2.132345 [ 6464/60000]\n",
      "loss: 2.064896 [12864/60000]\n",
      "loss: 2.086692 [19264/60000]\n",
      "loss: 2.041550 [25664/60000]\n",
      "loss: 1.970677 [32064/60000]\n",
      "loss: 2.006857 [38464/60000]\n",
      "loss: 1.906194 [44864/60000]\n",
      "loss: 1.918386 [51264/60000]\n",
      "loss: 1.851660 [57664/60000]\n",
      "Test Error: \n",
      " Accuracy: 57.6%, Avg loss: 1.841541\n",
      "\n",
      "Epoch 3\n",
      "-----------------------------------------\n",
      "loss: 1.875644 [   64/60000]\n",
      "loss: 1.846940 [ 6464/60000]\n",
      "loss: 1.714907 [12864/60000]\n",
      "loss: 1.768369 [19264/60000]\n",
      "loss: 1.668893 [25664/60000]\n",
      "loss: 1.612713 [32064/60000]\n",
      "loss: 1.640108 [38464/60000]\n",
      "loss: 1.520641 [44864/60000]\n",
      "loss: 1.558512 [51264/60000]\n",
      "loss: 1.465165 [57664/60000]\n",
      "Test Error: \n",
      " Accuracy: 61.7%, Avg loss: 1.473148\n",
      "\n",
      "Epoch 4\n",
      "-----------------------------------------\n",
      "loss: 1.536052 [   64/60000]\n",
      "loss: 1.509372 [ 6464/60000]\n",
      "loss: 1.350572 [12864/60000]\n",
      "loss: 1.434522 [19264/60000]\n",
      "loss: 1.325622 [25664/60000]\n",
      "loss: 1.317170 [32064/60000]\n",
      "loss: 1.331704 [38464/60000]\n",
      "loss: 1.240087 [44864/60000]\n",
      "loss: 1.286940 [51264/60000]\n",
      "loss: 1.201983 [57664/60000]\n",
      "Test Error: \n",
      " Accuracy: 63.3%, Avg loss: 1.217913\n",
      "\n",
      "Epoch 5\n",
      "-----------------------------------------\n",
      "loss: 1.286841 [   64/60000]\n",
      "loss: 1.279621 [ 6464/60000]\n",
      "loss: 1.109049 [12864/60000]\n",
      "loss: 1.222092 [19264/60000]\n",
      "loss: 1.104205 [25664/60000]\n",
      "loss: 1.126860 [32064/60000]\n",
      "loss: 1.146270 [38464/60000]\n",
      "loss: 1.070331 [44864/60000]\n",
      "loss: 1.119591 [51264/60000]\n",
      "loss: 1.049512 [57664/60000]\n",
      "Test Error: \n",
      " Accuracy: 64.6%, Avg loss: 1.060578\n",
      "\n",
      "Done!\n"
     ]
    }
   ],
   "source": [
    "# epochs 수만큼 반복 학습\n",
    "epochs = 5\n",
    "\n",
    "for t in range(epochs):\n",
    "    print(f\"Epoch {t+1}\\n-----------------------------------------\")\n",
    "    train(train_dataloader, model, loss_fn, optimizer)\n",
    "    test(test_dataloader, model, loss_fn)\n",
    "print(\"Done!\")"
   ]
  },
  {
   "cell_type": "markdown",
   "metadata": {},
   "source": [
    "# Save Model Parameter"
   ]
  },
  {
   "cell_type": "code",
   "execution_count": 10,
   "metadata": {
    "ExecuteTime": {
     "end_time": "2023-07-27T01:25:41.580293600Z",
     "start_time": "2023-07-27T01:25:41.479198100Z"
    }
   },
   "outputs": [
    {
     "name": "stdout",
     "output_type": "stream",
     "text": [
      "Saved PyTorch Model State to model.pth\n"
     ]
    }
   ],
   "source": [
    "torch.save(model.state_dict(), \"model.pth\")\n",
    "print(\"Saved PyTorch Model State to model.pth\")"
   ]
  },
  {
   "cell_type": "markdown",
   "metadata": {},
   "source": [
    "# Load Model"
   ]
  },
  {
   "cell_type": "code",
   "execution_count": 11,
   "metadata": {
    "ExecuteTime": {
     "end_time": "2023-07-27T01:25:45.189484900Z",
     "start_time": "2023-07-27T01:25:45.105228300Z"
    }
   },
   "outputs": [
    {
     "data": {
      "text/plain": "<All keys matched successfully>"
     },
     "execution_count": 11,
     "metadata": {},
     "output_type": "execute_result"
    }
   ],
   "source": [
    "model = NeuralNetwork().to(device)\n",
    "model.load_state_dict(torch.load(\"model.pth\"))"
   ]
  },
  {
   "cell_type": "code",
   "execution_count": 12,
   "metadata": {
    "ExecuteTime": {
     "end_time": "2023-07-27T01:25:50.640885500Z",
     "start_time": "2023-07-27T01:25:50.511900400Z"
    }
   },
   "outputs": [
    {
     "name": "stdout",
     "output_type": "stream",
     "text": [
      "Predicted: \"Ankle boot\", Actual: \"Ankle boot\"\n"
     ]
    }
   ],
   "source": [
    "classes = [\n",
    "    \"T-shirt/top\",\n",
    "    \"Trouser\",\n",
    "    \"Pullover\",\n",
    "    \"Dress\",\n",
    "    \"Coat\",\n",
    "    \"Sandal\",\n",
    "    \"Shirt\",\n",
    "    \"Sneaker\",\n",
    "    \"Bag\",\n",
    "    \"Ankle boot\",\n",
    "]\n",
    "\n",
    "model.eval()\n",
    "x, y = test_data[0][0], test_data[0][1]\n",
    "with torch.no_grad():\n",
    "    x = x.to(device)\n",
    "    pred = model(x)\n",
    "    predicted, actual = classes[pred[0].argmax(0)], classes[y]\n",
    "    print(f\"Predicted: \\\"{predicted}\\\", Actual: \\\"{actual}\\\"\")"
   ]
  },
  {
   "cell_type": "code",
   "execution_count": null,
   "outputs": [],
   "source": [],
   "metadata": {
    "collapsed": false
   }
  }
 ],
 "metadata": {
  "kernelspec": {
   "display_name": ".venv",
   "language": "python",
   "name": "python3"
  },
  "language_info": {
   "codemirror_mode": {
    "name": "ipython",
    "version": 3
   },
   "file_extension": ".py",
   "mimetype": "text/x-python",
   "name": "python",
   "nbconvert_exporter": "python",
   "pygments_lexer": "ipython3",
   "version": "3.11.4"
  },
  "orig_nbformat": 4
 },
 "nbformat": 4,
 "nbformat_minor": 2
}
